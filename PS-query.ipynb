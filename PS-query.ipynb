{
 "cells": [
  {
   "cell_type": "code",
   "execution_count": 1,
   "id": "596f932e-524b-406e-aadd-ebe03e314422",
   "metadata": {},
   "outputs": [
    {
     "name": "stdout",
     "output_type": "stream",
     "text": [
      "\u001b[33mDEPRECATION: Loading egg at /srv/conda/envs/notebook/lib/python3.11/site-packages/odp-0.0.1-py3.11.egg is deprecated. pip 24.3 will enforce this behaviour change. A possible replacement is to use pip for package installation. Discussion can be found at https://github.com/pypa/pip/issues/12330\u001b[0m\u001b[33m\n",
      "\u001b[0m\u001b[31mERROR: pip's dependency resolver does not currently take into account all the packages that are installed. This behaviour is the source of the following dependency conflicts.\n",
      "awscli 2.17.56 requires cryptography<40.0.2,>=40.0.0, but you have cryptography 44.0.2 which is incompatible.\n",
      "pyopenssl 23.2.0 requires cryptography!=40.0.0,!=40.0.1,<42,>=38.0.0, but you have cryptography 44.0.2 which is incompatible.\u001b[0m\u001b[31m\n",
      "\u001b[0m"
     ]
    }
   ],
   "source": [
    "!pip install -U odp-sdk --quiet"
   ]
  },
  {
   "cell_type": "code",
   "execution_count": 2,
   "id": "bee46dae-89fd-4760-bb3e-d36f2bbcc642",
   "metadata": {},
   "outputs": [],
   "source": [
    "from odp.client import OdpClient # The SDK\n",
    "import pandas as pd"
   ]
  },
  {
   "cell_type": "code",
   "execution_count": 3,
   "id": "b4a88fa9-2ee7-4cf0-bde8-dd51a15518e9",
   "metadata": {},
   "outputs": [],
   "source": [
    "client = OdpClient()"
   ]
  },
  {
   "cell_type": "code",
   "execution_count": 4,
   "id": "97dd611e-faa7-40b9-a28b-a830aaa632b7",
   "metadata": {},
   "outputs": [
    {
     "data": {
      "text/plain": [
       "'ProtectedSeas MPA Dataset'"
      ]
     },
     "execution_count": 4,
     "metadata": {},
     "output_type": "execute_result"
    }
   ],
   "source": [
    "dataset = client.catalog.get((\"8131a076-af24-483b-b9a1-20a37433ef46\")) ## UUID of ProtectedSeas dataset from the catalog\n",
    "dataset.metadata.display_name"
   ]
  },
  {
   "cell_type": "code",
   "execution_count": 5,
   "id": "8a8ea9b4-c61f-4e55-9f99-8403d664fead",
   "metadata": {},
   "outputs": [],
   "source": [
    "# PS_data = client.tabular.select_as_list(dataset, filter_query={'#ST_WITHIN': ['$geometry', query_geometry.value]}, limit=10000)"
   ]
  },
  {
   "cell_type": "code",
   "execution_count": 6,
   "id": "f1595926-4acc-4458-8db0-9118e8c1483b",
   "metadata": {},
   "outputs": [],
   "source": [
    "from shapely.geometry import Point\n",
    "from shapely.geometry.polygon import Polygon\n",
    "from shapely.ops import transform\n",
    "import pyproj\n",
    "\n",
    "# Define the point\n",
    "center = Point(-64.385888, 48.987655)  # Longitude first, then latitude\n",
    "\n",
    "# Define the projection for buffer calculations (to convert degrees to meters)\n",
    "wgs84 = pyproj.CRS(\"EPSG:4326\")  # Standard lat/lon\n",
    "utm = pyproj.CRS(\"EPSG:32652\")  # Approximate UTM zone for this region\n",
    "project = pyproj.Transformer.from_crs(wgs84, utm, always_xy=True).transform\n",
    "reverse_project = pyproj.Transformer.from_crs(utm, wgs84, always_xy=True).transform\n",
    "\n",
    "# Convert point to UTM, buffer in meters, then convert back\n",
    "utm_point = transform(project, center)\n",
    "buffered = utm_point.buffer(50000)  # 50km buffer\n",
    "circle_polygon = transform(reverse_project, buffered)\n",
    "\n",
    "# Convert to GeoJSON-like format\n",
    "query_geometry = {\n",
    "    \"type\": \"Polygon\",\n",
    "    \"coordinates\": [list(circle_polygon.exterior.coords)]\n",
    "}\n",
    "\n",
    "# Run the query\n",
    "PS_data = client.tabular.select_as_list(\n",
    "    dataset, \n",
    "    filter_query={'#ST_WITHIN': ['$geometry', query_geometry]},\n",
    "    limit=10000\n",
    ")\n"
   ]
  },
  {
   "cell_type": "code",
   "execution_count": 10,
   "id": "14477ad8-ea02-400d-9a9e-d89340c7e9c4",
   "metadata": {},
   "outputs": [],
   "source": [
    "# PS_data"
   ]
  },
  {
   "cell_type": "code",
   "execution_count": 7,
   "id": "49abdc9c-7ee3-4b84-9bf9-574329980a92",
   "metadata": {},
   "outputs": [
    {
     "data": {
      "text/html": [
       "<div>\n",
       "<style scoped>\n",
       "    .dataframe tbody tr th:only-of-type {\n",
       "        vertical-align: middle;\n",
       "    }\n",
       "\n",
       "    .dataframe tbody tr th {\n",
       "        vertical-align: top;\n",
       "    }\n",
       "\n",
       "    .dataframe thead th {\n",
       "        text-align: right;\n",
       "    }\n",
       "</style>\n",
       "<table border=\"1\" class=\"dataframe\">\n",
       "  <thead>\n",
       "    <tr style=\"text-align: right;\">\n",
       "      <th></th>\n",
       "      <th>regulation_url</th>\n",
       "      <th>boundary_source</th>\n",
       "      <th>inshore_only</th>\n",
       "      <th>definitions</th>\n",
       "      <th>anchoring_prohibited</th>\n",
       "      <th>construction_prohibited</th>\n",
       "      <th>hook_n_line</th>\n",
       "      <th>dredging_prohibited</th>\n",
       "      <th>trolling</th>\n",
       "      <th>tribal</th>\n",
       "      <th>...</th>\n",
       "      <th>site_name</th>\n",
       "      <th>coastline_match</th>\n",
       "      <th>latest_updates</th>\n",
       "      <th>industrial_or_mineral_exploration_prohibited</th>\n",
       "      <th>season</th>\n",
       "      <th>geometry_reduced</th>\n",
       "      <th>state</th>\n",
       "      <th>longlining</th>\n",
       "      <th>entry_prohibited</th>\n",
       "      <th>regulation_name</th>\n",
       "    </tr>\n",
       "  </thead>\n",
       "  <tbody>\n",
       "    <tr>\n",
       "      <th>0</th>\n",
       "      <td>https://laws-lois.justice.gc.ca/eng/regulation...</td>\n",
       "      <td>Parks Canada</td>\n",
       "      <td>3.0</td>\n",
       "      <td>None</td>\n",
       "      <td>3</td>\n",
       "      <td>3</td>\n",
       "      <td>2</td>\n",
       "      <td>3</td>\n",
       "      <td>1</td>\n",
       "      <td>1</td>\n",
       "      <td>...</td>\n",
       "      <td>Forillon National Park</td>\n",
       "      <td>1.0</td>\n",
       "      <td>Check Fisheries and Oceans Canada's &lt;a href=\"h...</td>\n",
       "      <td>3</td>\n",
       "      <td>Year-round</td>\n",
       "      <td>{'type': 'MultiPolygon', 'coordinates': [[[[-6...</td>\n",
       "      <td>QC</td>\n",
       "      <td>1</td>\n",
       "      <td>3</td>\n",
       "      <td>National Parks of Canada Fishing Regulations (...</td>\n",
       "    </tr>\n",
       "  </tbody>\n",
       "</table>\n",
       "<p>1 rows × 60 columns</p>\n",
       "</div>"
      ],
      "text/plain": [
       "                                      regulation_url boundary_source  \\\n",
       "0  https://laws-lois.justice.gc.ca/eng/regulation...    Parks Canada   \n",
       "\n",
       "   inshore_only definitions  anchoring_prohibited  construction_prohibited  \\\n",
       "0           3.0        None                     3                        3   \n",
       "\n",
       "   hook_n_line  dredging_prohibited  trolling  tribal  ...  \\\n",
       "0            2                    3         1       1  ...   \n",
       "\n",
       "                site_name coastline_match  \\\n",
       "0  Forillon National Park             1.0   \n",
       "\n",
       "                                      latest_updates  \\\n",
       "0  Check Fisheries and Oceans Canada's <a href=\"h...   \n",
       "\n",
       "  industrial_or_mineral_exploration_prohibited      season  \\\n",
       "0                                            3  Year-round   \n",
       "\n",
       "                                    geometry_reduced  state  longlining  \\\n",
       "0  {'type': 'MultiPolygon', 'coordinates': [[[[-6...     QC           1   \n",
       "\n",
       "   entry_prohibited                                    regulation_name  \n",
       "0                 3  National Parks of Canada Fishing Regulations (...  \n",
       "\n",
       "[1 rows x 60 columns]"
      ]
     },
     "execution_count": 7,
     "metadata": {},
     "output_type": "execute_result"
    }
   ],
   "source": [
    "PS_df = pd.DataFrame(PS_data)  # Convert list to DataFrame\n",
    "PS_df.head(5)"
   ]
  },
  {
   "cell_type": "code",
   "execution_count": 8,
   "id": "81cc5401-58e6-4dbf-94f3-ad4c34a2a092",
   "metadata": {},
   "outputs": [
    {
     "data": {
      "text/html": [
       "<div>\n",
       "<style scoped>\n",
       "    .dataframe tbody tr th:only-of-type {\n",
       "        vertical-align: middle;\n",
       "    }\n",
       "\n",
       "    .dataframe tbody tr th {\n",
       "        vertical-align: top;\n",
       "    }\n",
       "\n",
       "    .dataframe thead th {\n",
       "        text-align: right;\n",
       "    }\n",
       "</style>\n",
       "<table border=\"1\" class=\"dataframe\">\n",
       "  <thead>\n",
       "    <tr style=\"text-align: right;\">\n",
       "      <th></th>\n",
       "      <th>site_name</th>\n",
       "      <th>purpose</th>\n",
       "      <th>species_of_concern</th>\n",
       "      <th>restrictions</th>\n",
       "      <th>iucn_cat</th>\n",
       "      <th>regulation_name</th>\n",
       "      <th>managing_authority</th>\n",
       "      <th>country</th>\n",
       "      <th>geometry_reduced</th>\n",
       "    </tr>\n",
       "  </thead>\n",
       "  <tbody>\n",
       "    <tr>\n",
       "      <th>0</th>\n",
       "      <td>Forillon National Park</td>\n",
       "      <td>To protect ecosystems providing habitat for di...</td>\n",
       "      <td>Minke whale, Atlantic white-sided dolphin, hum...</td>\n",
       "      <td>1. Catch limits and closures as set out in Nat...</td>\n",
       "      <td>Unassigned</td>\n",
       "      <td>National Parks of Canada Fishing Regulations (...</td>\n",
       "      <td>Parks Canada</td>\n",
       "      <td>Canada</td>\n",
       "      <td>{'type': 'MultiPolygon', 'coordinates': [[[[-6...</td>\n",
       "    </tr>\n",
       "  </tbody>\n",
       "</table>\n",
       "</div>"
      ],
      "text/plain": [
       "                site_name                                            purpose  \\\n",
       "0  Forillon National Park  To protect ecosystems providing habitat for di...   \n",
       "\n",
       "                                  species_of_concern  \\\n",
       "0  Minke whale, Atlantic white-sided dolphin, hum...   \n",
       "\n",
       "                                        restrictions    iucn_cat  \\\n",
       "0  1. Catch limits and closures as set out in Nat...  Unassigned   \n",
       "\n",
       "                                     regulation_name managing_authority  \\\n",
       "0  National Parks of Canada Fishing Regulations (...       Parks Canada   \n",
       "\n",
       "  country                                   geometry_reduced  \n",
       "0  Canada  {'type': 'MultiPolygon', 'coordinates': [[[[-6...  "
      ]
     },
     "execution_count": 8,
     "metadata": {},
     "output_type": "execute_result"
    }
   ],
   "source": [
    "columns_to_keep = [\n",
    "    \"site_name\",\n",
    "    \"purpose\",\n",
    "    \"species_of_concern\",\n",
    "    \"restrictions\",\n",
    "    \"iucn_cat\",\n",
    "    \"regulation_name\",\n",
    "    \"managing_authority\",\n",
    "    \"country\",\n",
    "    \"geometry_reduced\"\n",
    "]\n",
    "\n",
    "# Filter and reorder the DataFrame\n",
    "PS_df = PS_df[columns_to_keep]\n",
    "\n",
    "# Display the first 5 rows\n",
    "PS_df.head(5)"
   ]
  },
  {
   "cell_type": "code",
   "execution_count": null,
   "id": "e0820c32-9591-4eb9-bd22-60069ca6d711",
   "metadata": {},
   "outputs": [],
   "source": []
  }
 ],
 "metadata": {
  "kernelspec": {
   "display_name": "Python 3 (ipykernel)",
   "language": "python",
   "name": "python3"
  },
  "language_info": {
   "codemirror_mode": {
    "name": "ipython",
    "version": 3
   },
   "file_extension": ".py",
   "mimetype": "text/x-python",
   "name": "python",
   "nbconvert_exporter": "python",
   "pygments_lexer": "ipython3",
   "version": "3.11.10"
  }
 },
 "nbformat": 4,
 "nbformat_minor": 5
}
